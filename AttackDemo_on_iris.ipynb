{
  "nbformat": 4,
  "nbformat_minor": 0,
  "metadata": {
    "colab": {
      "provenance": []
    },
    "kernelspec": {
      "name": "python3",
      "display_name": "Python 3"
    },
    "language_info": {
      "name": "python"
    }
  },
  "cells": [
    {
      "cell_type": "code",
      "source": [
        "pip install qiskit qiskit_aer"
      ],
      "metadata": {
        "colab": {
          "base_uri": "https://localhost:8080/"
        },
        "id": "grzrtorPk8V0",
        "outputId": "61791204-32fe-413b-d018-942da00ffa90"
      },
      "execution_count": 1,
      "outputs": [
        {
          "output_type": "stream",
          "name": "stdout",
          "text": [
            "Collecting qiskit\n",
            "  Downloading qiskit-1.1.1-cp38-abi3-manylinux_2_17_x86_64.manylinux2014_x86_64.whl (4.3 MB)\n",
            "\u001b[2K     \u001b[90m━━━━━━━━━━━━━━━━━━━━━━━━━━━━━━━━━━━━━━━━\u001b[0m \u001b[32m4.3/4.3 MB\u001b[0m \u001b[31m10.7 MB/s\u001b[0m eta \u001b[36m0:00:00\u001b[0m\n",
            "\u001b[?25hCollecting qiskit_aer\n",
            "  Downloading qiskit_aer-0.14.2-cp310-cp310-manylinux_2_17_x86_64.manylinux2014_x86_64.whl (12.4 MB)\n",
            "\u001b[2K     \u001b[90m━━━━━━━━━━━━━━━━━━━━━━━━━━━━━━━━━━━━━━━━\u001b[0m \u001b[32m12.4/12.4 MB\u001b[0m \u001b[31m14.5 MB/s\u001b[0m eta \u001b[36m0:00:00\u001b[0m\n",
            "\u001b[?25hCollecting rustworkx>=0.14.0 (from qiskit)\n",
            "  Downloading rustworkx-0.14.2-cp310-cp310-manylinux_2_17_x86_64.manylinux2014_x86_64.whl (2.1 MB)\n",
            "\u001b[2K     \u001b[90m━━━━━━━━━━━━━━━━━━━━━━━━━━━━━━━━━━━━━━━━\u001b[0m \u001b[32m2.1/2.1 MB\u001b[0m \u001b[31m36.5 MB/s\u001b[0m eta \u001b[36m0:00:00\u001b[0m\n",
            "\u001b[?25hRequirement already satisfied: numpy<3,>=1.17 in /usr/local/lib/python3.10/dist-packages (from qiskit) (1.25.2)\n",
            "Requirement already satisfied: scipy>=1.5 in /usr/local/lib/python3.10/dist-packages (from qiskit) (1.11.4)\n",
            "Requirement already satisfied: sympy>=1.3 in /usr/local/lib/python3.10/dist-packages (from qiskit) (1.12.1)\n",
            "Collecting dill>=0.3 (from qiskit)\n",
            "  Downloading dill-0.3.8-py3-none-any.whl (116 kB)\n",
            "\u001b[2K     \u001b[90m━━━━━━━━━━━━━━━━━━━━━━━━━━━━━━━━━━━━━━━━\u001b[0m \u001b[32m116.3/116.3 kB\u001b[0m \u001b[31m5.7 MB/s\u001b[0m eta \u001b[36m0:00:00\u001b[0m\n",
            "\u001b[?25hRequirement already satisfied: python-dateutil>=2.8.0 in /usr/local/lib/python3.10/dist-packages (from qiskit) (2.8.2)\n",
            "Collecting stevedore>=3.0.0 (from qiskit)\n",
            "  Downloading stevedore-5.2.0-py3-none-any.whl (49 kB)\n",
            "\u001b[2K     \u001b[90m━━━━━━━━━━━━━━━━━━━━━━━━━━━━━━━━━━━━━━━━\u001b[0m \u001b[32m49.7/49.7 kB\u001b[0m \u001b[31m1.7 MB/s\u001b[0m eta \u001b[36m0:00:00\u001b[0m\n",
            "\u001b[?25hRequirement already satisfied: typing-extensions in /usr/local/lib/python3.10/dist-packages (from qiskit) (4.12.2)\n",
            "Collecting symengine>=0.11 (from qiskit)\n",
            "  Downloading symengine-0.11.0-cp310-cp310-manylinux_2_12_x86_64.manylinux2010_x86_64.whl (39.4 MB)\n",
            "\u001b[2K     \u001b[90m━━━━━━━━━━━━━━━━━━━━━━━━━━━━━━━━━━━━━━━━\u001b[0m \u001b[32m39.4/39.4 MB\u001b[0m \u001b[31m9.9 MB/s\u001b[0m eta \u001b[36m0:00:00\u001b[0m\n",
            "\u001b[?25hRequirement already satisfied: psutil>=5 in /usr/local/lib/python3.10/dist-packages (from qiskit_aer) (5.9.5)\n",
            "Requirement already satisfied: six>=1.5 in /usr/local/lib/python3.10/dist-packages (from python-dateutil>=2.8.0->qiskit) (1.16.0)\n",
            "Collecting pbr!=2.1.0,>=2.0.0 (from stevedore>=3.0.0->qiskit)\n",
            "  Downloading pbr-6.0.0-py2.py3-none-any.whl (107 kB)\n",
            "\u001b[2K     \u001b[90m━━━━━━━━━━━━━━━━━━━━━━━━━━━━━━━━━━━━━━━━\u001b[0m \u001b[32m107.5/107.5 kB\u001b[0m \u001b[31m5.8 MB/s\u001b[0m eta \u001b[36m0:00:00\u001b[0m\n",
            "\u001b[?25hRequirement already satisfied: mpmath<1.4.0,>=1.1.0 in /usr/local/lib/python3.10/dist-packages (from sympy>=1.3->qiskit) (1.3.0)\n",
            "Installing collected packages: symengine, rustworkx, pbr, dill, stevedore, qiskit, qiskit_aer\n",
            "Successfully installed dill-0.3.8 pbr-6.0.0 qiskit-1.1.1 qiskit_aer-0.14.2 rustworkx-0.14.2 stevedore-5.2.0 symengine-0.11.0\n"
          ]
        }
      ]
    },
    {
      "cell_type": "code",
      "execution_count": 4,
      "metadata": {
        "colab": {
          "base_uri": "https://localhost:8080/"
        },
        "id": "P_DFrkRbkhVE",
        "outputId": "a18cf958-ca83-46c1-9a05-3973a293623c"
      },
      "outputs": [
        {
          "output_type": "stream",
          "name": "stdout",
          "text": [
            "Training set shape: (120, 4)\n",
            "Test set shape: (30, 4)\n"
          ]
        }
      ],
      "source": [
        "from sklearn import datasets\n",
        "from sklearn.preprocessing import StandardScaler\n",
        "from sklearn.model_selection import train_test_split\n",
        "from sklearn.preprocessing import LabelEncoder\n",
        "import numpy as np\n",
        "iris = datasets.load_iris()\n",
        "X = iris.data\n",
        "y = iris.target\n",
        "\n",
        "# Normalize the features\n",
        "scaler = StandardScaler()\n",
        "X = scaler.fit_transform(X)\n",
        "\n",
        "# Encode labels to binary\n",
        "encoder = LabelEncoder()\n",
        "y = encoder.fit_transform((y == 0).astype(int))  # Only classify setosa vs non-setosa\n",
        "X_train, X_test, y_train, y_test = train_test_split(X, y, test_size=0.2, random_state=42)\n",
        "\n",
        "print(\"Training set shape:\", X_train.shape)\n",
        "print(\"Test set shape:\", X_test.shape)"
      ]
    },
    {
      "cell_type": "code",
      "source": [
        "from qiskit import QuantumCircuit\n",
        "def create_quantum_circuit(data):\n",
        "    \"\"\"Creates a quantum circuit to encode classical data.\"\"\"\n",
        "    num_features = len(data)\n",
        "    qc = QuantumCircuit(num_features)\n",
        "\n",
        "    for i in range(num_features):\n",
        "        qc.ry(data[i], i)  # Encode data using Ry rotation gates\n",
        "\n",
        "    return qc\n",
        "# Example encoding for the first training sample\n",
        "qc = create_quantum_circuit(X_train[0])\n",
        "print(qc.draw())"
      ],
      "metadata": {
        "colab": {
          "base_uri": "https://localhost:8080/"
        },
        "id": "q8usbqSglDC-",
        "outputId": "754ec7c6-beb7-4ca1-afb1-9365ff666220"
      },
      "execution_count": 5,
      "outputs": [
        {
          "output_type": "stream",
          "name": "stdout",
          "text": [
            "     ┌─────────────┐\n",
            "q_0: ┤ Ry(-1.5065) ├\n",
            "     └┬────────────┤\n",
            "q_1: ─┤ Ry(1.2492) ├\n",
            "     ┌┴────────────┤\n",
            "q_2: ┤ Ry(-1.5676) ├\n",
            "     ├─────────────┤\n",
            "q_3: ┤ Ry(-1.3154) ├\n",
            "     └─────────────┘\n"
          ]
        }
      ]
    },
    {
      "cell_type": "code",
      "source": [
        "X_train[0]"
      ],
      "metadata": {
        "colab": {
          "base_uri": "https://localhost:8080/"
        },
        "id": "H8MuNL5AlM0L",
        "outputId": "bedcac28-a8f5-4c34-cdfe-77b0b90ff745"
      },
      "execution_count": 6,
      "outputs": [
        {
          "output_type": "execute_result",
          "data": {
            "text/plain": [
              "array([-1.50652052,  1.24920112, -1.56757623, -1.3154443 ])"
            ]
          },
          "metadata": {},
          "execution_count": 6
        }
      ]
    },
    {
      "cell_type": "code",
      "source": [
        "from qiskit.circuit import Parameter\n",
        "\n",
        "def create_variational_circuit(num_qubits):\n",
        "    \"\"\"Creates a parameterized variational quantum circuit.\"\"\"\n",
        "    qc = QuantumCircuit(num_qubits)\n",
        "    # Define parameters\n",
        "    theta = [Parameter(f'θ_{i}') for i in range(num_qubits)]\n",
        "    for i in range(num_qubits): #applying rotations\n",
        "        qc.ry(theta[i], i)\n",
        "    for i in range(num_qubits - 1): #applying CNOT entanglements\n",
        "        qc.cx(i, i + 1)\n",
        "    return qc, theta\n",
        "\n",
        "# Example variational circuit for 4 features\n",
        "var_qc, params = create_variational_circuit(4)\n",
        "print(var_qc.draw())"
      ],
      "metadata": {
        "colab": {
          "base_uri": "https://localhost:8080/"
        },
        "id": "WagF74kslma_",
        "outputId": "e3419bda-bd04-4aa4-aacd-2cd396342377"
      },
      "execution_count": 7,
      "outputs": [
        {
          "output_type": "stream",
          "name": "stdout",
          "text": [
            "     ┌─────────┐               \n",
            "q_0: ┤ Ry(θ_0) ├──■────────────\n",
            "     ├─────────┤┌─┴─┐          \n",
            "q_1: ┤ Ry(θ_1) ├┤ X ├──■───────\n",
            "     ├─────────┤└───┘┌─┴─┐     \n",
            "q_2: ┤ Ry(θ_2) ├─────┤ X ├──■──\n",
            "     ├─────────┤     └───┘┌─┴─┐\n",
            "q_3: ┤ Ry(θ_3) ├──────────┤ X ├\n",
            "     └─────────┘          └───┘\n"
          ]
        }
      ]
    },
    {
      "cell_type": "code",
      "source": [
        "from qiskit import transpile\n",
        "from qiskit_aer import Aer\n",
        "from scipy.optimize import minimize\n",
        "#from qiskit.visualization import plot_histogram\n",
        "import matplotlib.pyplot as plt\n",
        "\n",
        "simulator = Aer.get_backend('qasm_simulator') #quantum simulator\n",
        "\n",
        "# Define the full quantum circuit for one data point\n",
        "def create_full_circuit(data, params_values):\n",
        "    qc = create_quantum_circuit(data)\n",
        "    var_qc, params = create_variational_circuit(data.shape[0])\n",
        "    bound_var_qc = var_qc.assign_parameters({params[i]: params_values[i] for i in range(len(params))})\n",
        "    qc = qc.compose(bound_var_qc)\n",
        "    #var_qc.draw()\n",
        "    #qc.draw()\n",
        "    qc.measure_all()\n",
        "    return qc\n",
        "\n",
        "# Cost function to minimize\n",
        "def cost_function(params_values):\n",
        "    total_cost = 0\n",
        "    for i, data in enumerate(X_train):\n",
        "        qc = create_full_circuit(data, params_values)\n",
        "        transpiled_qc = transpile(qc, simulator)\n",
        "        result = simulator.run(transpiled_qc, shots=1024).result()\n",
        "        counts = result.get_counts()\n",
        "        # Convert measurement results to binary outcomes\n",
        "        predictions = (counts.get('0000', 0) + counts.get('0001', 0) >= counts.get('1110', 0) + counts.get('1111', 0))\n",
        "        total_cost += (predictions - y_train[i]) ** 2\n",
        "    return total_cost / len(X_train)\n",
        "\n",
        "# Optimize the parameters\n",
        "initial_params = np.random.rand(4) * np.pi\n",
        "result = minimize(cost_function, initial_params, method='COBYLA')\n",
        "\n",
        "# Optimized parameters\n",
        "optimal_params = result.x\n",
        "print(\"Optimal parameters:\", optimal_params)"
      ],
      "metadata": {
        "colab": {
          "base_uri": "https://localhost:8080/"
        },
        "id": "sX2KOZV4mkyF",
        "outputId": "9f342962-de8f-4ac9-8bc0-085da4809334"
      },
      "execution_count": 8,
      "outputs": [
        {
          "output_type": "stream",
          "name": "stdout",
          "text": [
            "Optimal parameters: [ 2.16482139 -0.15508992  0.56187934  4.56133542]\n"
          ]
        }
      ]
    },
    {
      "cell_type": "code",
      "source": [
        "# Evaluate on the test set\n",
        "def predict(data, params_values):\n",
        "    qc = create_full_circuit(data, params_values)\n",
        "    transpiled_qc = transpile(qc, simulator)\n",
        "    result = simulator.run(transpiled_qc, shots=1024).result()\n",
        "    counts = result.get_counts()\n",
        "    prediction = (counts.get('0000', 0) + counts.get('0001', 0) >= counts.get('1110', 0) + counts.get('1111', 0))\n",
        "    return prediction\n",
        "\n",
        "# Calculate accuracy\n",
        "correct_predictions = 0\n",
        "predictions_val = []\n",
        "for i, data in enumerate(X_test):\n",
        "    prediction = predict(data, optimal_params)\n",
        "    predictions_val.append(prediction)\n",
        "    if prediction == y_test[i]:\n",
        "        correct_predictions += 1\n",
        "\n",
        "accuracy = correct_predictions / len(X_test)\n",
        "print(\"Test set accuracy:\", accuracy)"
      ],
      "metadata": {
        "colab": {
          "base_uri": "https://localhost:8080/"
        },
        "id": "u1MIrr40xhpk",
        "outputId": "82420675-1073-4fcd-f1aa-695bab240ea0"
      },
      "execution_count": 9,
      "outputs": [
        {
          "output_type": "stream",
          "name": "stdout",
          "text": [
            "Test set accuracy: 0.8333333333333334\n"
          ]
        }
      ]
    },
    {
      "cell_type": "code",
      "source": [
        "predictions_val = np.array(predictions_val)\n",
        "# now using X_test and Predictions_val"
      ],
      "metadata": {
        "id": "fi6yh0724B5S"
      },
      "execution_count": 10,
      "outputs": []
    },
    {
      "cell_type": "code",
      "source": [
        "import tensorflow as tf\n",
        "from tensorflow.keras.models import Sequential\n",
        "from tensorflow.keras.layers import Dense\n",
        "\n",
        "# Define the neural network model\n",
        "model = Sequential([\n",
        "    Dense(16, activation='relu', input_shape=(4,)),\n",
        "    Dense(1, activation='sigmoid')\n",
        "])\n",
        "\n",
        "# Compile the model\n",
        "model.compile(optimizer='adam', loss='binary_crossentropy', metrics=['accuracy'])\n",
        "\n",
        "# Train the model\n",
        "model.fit(X_test, predictions_val, epochs=50, batch_size=8)"
      ],
      "metadata": {
        "colab": {
          "base_uri": "https://localhost:8080/"
        },
        "id": "eQE5a6EH4uZ1",
        "outputId": "b5e1e57d-116f-49be-f652-8d7694dee2af"
      },
      "execution_count": 11,
      "outputs": [
        {
          "output_type": "stream",
          "name": "stdout",
          "text": [
            "Epoch 1/50\n",
            "4/4 [==============================] - 1s 8ms/step - loss: 0.9837 - accuracy: 0.4000\n",
            "Epoch 2/50\n",
            "4/4 [==============================] - 0s 5ms/step - loss: 0.9587 - accuracy: 0.4000\n",
            "Epoch 3/50\n",
            "4/4 [==============================] - 0s 5ms/step - loss: 0.9395 - accuracy: 0.4000\n",
            "Epoch 4/50\n",
            "4/4 [==============================] - 0s 5ms/step - loss: 0.9169 - accuracy: 0.4000\n",
            "Epoch 5/50\n",
            "4/4 [==============================] - 0s 5ms/step - loss: 0.8958 - accuracy: 0.4333\n",
            "Epoch 6/50\n",
            "4/4 [==============================] - 0s 9ms/step - loss: 0.8760 - accuracy: 0.4333\n",
            "Epoch 7/50\n",
            "4/4 [==============================] - 0s 6ms/step - loss: 0.8567 - accuracy: 0.4333\n",
            "Epoch 8/50\n",
            "4/4 [==============================] - 0s 6ms/step - loss: 0.8372 - accuracy: 0.4000\n",
            "Epoch 9/50\n",
            "4/4 [==============================] - 0s 4ms/step - loss: 0.8215 - accuracy: 0.4000\n",
            "Epoch 10/50\n",
            "4/4 [==============================] - 0s 4ms/step - loss: 0.8043 - accuracy: 0.4000\n",
            "Epoch 11/50\n",
            "4/4 [==============================] - 0s 4ms/step - loss: 0.7886 - accuracy: 0.4333\n",
            "Epoch 12/50\n",
            "4/4 [==============================] - 0s 4ms/step - loss: 0.7714 - accuracy: 0.4000\n",
            "Epoch 13/50\n",
            "4/4 [==============================] - 0s 4ms/step - loss: 0.7559 - accuracy: 0.4667\n",
            "Epoch 14/50\n",
            "4/4 [==============================] - 0s 4ms/step - loss: 0.7400 - accuracy: 0.4667\n",
            "Epoch 15/50\n",
            "4/4 [==============================] - 0s 5ms/step - loss: 0.7269 - accuracy: 0.4667\n",
            "Epoch 16/50\n",
            "4/4 [==============================] - 0s 6ms/step - loss: 0.7132 - accuracy: 0.4667\n",
            "Epoch 17/50\n",
            "4/4 [==============================] - 0s 5ms/step - loss: 0.6998 - accuracy: 0.5333\n",
            "Epoch 18/50\n",
            "4/4 [==============================] - 0s 4ms/step - loss: 0.6862 - accuracy: 0.5333\n",
            "Epoch 19/50\n",
            "4/4 [==============================] - 0s 6ms/step - loss: 0.6744 - accuracy: 0.5333\n",
            "Epoch 20/50\n",
            "4/4 [==============================] - 0s 7ms/step - loss: 0.6618 - accuracy: 0.6000\n",
            "Epoch 21/50\n",
            "4/4 [==============================] - 0s 4ms/step - loss: 0.6508 - accuracy: 0.6000\n",
            "Epoch 22/50\n",
            "4/4 [==============================] - 0s 5ms/step - loss: 0.6379 - accuracy: 0.6333\n",
            "Epoch 23/50\n",
            "4/4 [==============================] - 0s 4ms/step - loss: 0.6287 - accuracy: 0.6667\n",
            "Epoch 24/50\n",
            "4/4 [==============================] - 0s 5ms/step - loss: 0.6174 - accuracy: 0.7333\n",
            "Epoch 25/50\n",
            "4/4 [==============================] - 0s 4ms/step - loss: 0.6084 - accuracy: 0.7333\n",
            "Epoch 26/50\n",
            "4/4 [==============================] - 0s 4ms/step - loss: 0.5989 - accuracy: 0.7667\n",
            "Epoch 27/50\n",
            "4/4 [==============================] - 0s 4ms/step - loss: 0.5891 - accuracy: 0.7667\n",
            "Epoch 28/50\n",
            "4/4 [==============================] - 0s 5ms/step - loss: 0.5802 - accuracy: 0.8000\n",
            "Epoch 29/50\n",
            "4/4 [==============================] - 0s 4ms/step - loss: 0.5734 - accuracy: 0.8333\n",
            "Epoch 30/50\n",
            "4/4 [==============================] - 0s 8ms/step - loss: 0.5638 - accuracy: 0.8667\n",
            "Epoch 31/50\n",
            "4/4 [==============================] - 0s 9ms/step - loss: 0.5578 - accuracy: 0.8667\n",
            "Epoch 32/50\n",
            "4/4 [==============================] - 0s 10ms/step - loss: 0.5498 - accuracy: 0.8667\n",
            "Epoch 33/50\n",
            "4/4 [==============================] - 0s 7ms/step - loss: 0.5429 - accuracy: 0.8667\n",
            "Epoch 34/50\n",
            "4/4 [==============================] - 0s 6ms/step - loss: 0.5360 - accuracy: 0.8667\n",
            "Epoch 35/50\n",
            "4/4 [==============================] - 0s 9ms/step - loss: 0.5299 - accuracy: 0.8333\n",
            "Epoch 36/50\n",
            "4/4 [==============================] - 0s 6ms/step - loss: 0.5223 - accuracy: 0.8333\n",
            "Epoch 37/50\n",
            "4/4 [==============================] - 0s 6ms/step - loss: 0.5174 - accuracy: 0.8333\n",
            "Epoch 38/50\n",
            "4/4 [==============================] - 0s 8ms/step - loss: 0.5116 - accuracy: 0.8333\n",
            "Epoch 39/50\n",
            "4/4 [==============================] - 0s 6ms/step - loss: 0.5054 - accuracy: 0.8333\n",
            "Epoch 40/50\n",
            "4/4 [==============================] - 0s 5ms/step - loss: 0.5008 - accuracy: 0.8333\n",
            "Epoch 41/50\n",
            "4/4 [==============================] - 0s 6ms/step - loss: 0.4958 - accuracy: 0.8333\n",
            "Epoch 42/50\n",
            "4/4 [==============================] - 0s 7ms/step - loss: 0.4917 - accuracy: 0.8333\n",
            "Epoch 43/50\n",
            "4/4 [==============================] - 0s 10ms/step - loss: 0.4865 - accuracy: 0.8333\n",
            "Epoch 44/50\n",
            "4/4 [==============================] - 0s 11ms/step - loss: 0.4827 - accuracy: 0.8333\n",
            "Epoch 45/50\n",
            "4/4 [==============================] - 0s 12ms/step - loss: 0.4785 - accuracy: 0.8333\n",
            "Epoch 46/50\n",
            "4/4 [==============================] - 0s 11ms/step - loss: 0.4748 - accuracy: 0.8333\n",
            "Epoch 47/50\n",
            "4/4 [==============================] - 0s 12ms/step - loss: 0.4714 - accuracy: 0.8333\n",
            "Epoch 48/50\n",
            "4/4 [==============================] - 0s 12ms/step - loss: 0.4677 - accuracy: 0.8333\n",
            "Epoch 49/50\n",
            "4/4 [==============================] - 0s 13ms/step - loss: 0.4651 - accuracy: 0.8333\n",
            "Epoch 50/50\n",
            "4/4 [==============================] - 0s 12ms/step - loss: 0.4629 - accuracy: 0.8333\n"
          ]
        },
        {
          "output_type": "execute_result",
          "data": {
            "text/plain": [
              "<keras.src.callbacks.History at 0x7d6c705d3a60>"
            ]
          },
          "metadata": {},
          "execution_count": 11
        }
      ]
    },
    {
      "cell_type": "code",
      "source": [
        "# Compute gradients of the model's output with respect to the input image\n",
        "def compute_gradients(model, input_data, target_class):\n",
        "    with tf.GradientTape() as tape:\n",
        "        tape.watch(input_data)\n",
        "        predictions = model(input_data)\n",
        "        loss = tf.reduce_mean(predictions)\n",
        "    gradients = tape.gradient(loss, input_data)\n",
        "    return gradients\n",
        "\n",
        "# Find points near the decision boundary\n",
        "def find_boundary_points(model, X_data, y_data):\n",
        "    boundary_points = []\n",
        "    for i in range(len(X_data)):\n",
        "        input_data = tf.convert_to_tensor(X_data[i:i+1])\n",
        "        gradients = compute_gradients(model, input_data, y_data[i])\n",
        "        gradient_magnitude = tf.norm(gradients)\n",
        "        #print(gradient_magnitude)\n",
        "        if gradient_magnitude > 0.2:  # Adjust threshold as needed\n",
        "            boundary_points.append(input_data.numpy())\n",
        "    return boundary_points\n",
        "\n",
        "# Find boundary points in the training set\n",
        "boundary_points = find_boundary_points(model, X_test, predictions_val)\n",
        "print(\"Total points: \", len(X_test))\n",
        "print(\"Number of boundary points:\", len(boundary_points))"
      ],
      "metadata": {
        "colab": {
          "base_uri": "https://localhost:8080/"
        },
        "id": "bCEdxmB25I47",
        "outputId": "cfd90932-b097-4d10-9fbf-67a37dec689c"
      },
      "execution_count": 14,
      "outputs": [
        {
          "output_type": "stream",
          "name": "stdout",
          "text": [
            "Total points:  30\n",
            "Number of boundary points: 6\n"
          ]
        }
      ]
    },
    {
      "cell_type": "code",
      "source": [
        "# Perturb a point by epsilon\n",
        "def perturb_point(point, epsilon):\n",
        "    return np.clip(point + epsilon * np.random.randn(*point.shape), -2, 2)\n",
        "# Perturb a point in opposite direction by epsilon\n",
        "def perturb_point_neg(point, epsilon):\n",
        "    return np.clip(point - epsilon * np.random.randn(*point.shape), -2, 2)\n",
        "\n",
        "# Check if perturbed point generates an adversarial example\n",
        "def is_adversarial(model, original_point, perturbed_point):\n",
        "    original_prediction = model.predict(original_point)\n",
        "    perturbed_prediction = model.predict(perturbed_point)\n",
        "    return (original_prediction >= 0.5) != (perturbed_prediction >= 0.5)  # Predictions flip\n",
        "\n",
        "# Initialize parameters\n",
        "epsilon = 0.9  # Perturbation amount\n",
        "\n",
        "# Generate adversarial examples\n",
        "generated_images = []\n",
        "#dictionary storing points and directions +1 or -1\n",
        "pts = [] #points\n",
        "dir = [] #corresponding direction\n",
        "delta = 3 #parameter selecting how many new points we need to generate in our chosen direction\n",
        "for point in boundary_points:\n",
        "    perturbed_point = perturb_point(point, epsilon)\n",
        "    perturbed_point_neg = perturb_point_neg(point, epsilon)\n",
        "    if is_adversarial(model, point, perturbed_point):\n",
        "        print(\"got_pos\")\n",
        "        pts.append(point)\n",
        "        dir.append(1)\n",
        "        generated_images.append(perturbed_point.squeeze())\n",
        "        if len(generated_images) >= 10:\n",
        "            break\n",
        "    if is_adversarial(model, point, perturbed_point_neg):\n",
        "        print(\"got_neg\")\n",
        "        pts.append(point)\n",
        "        dir.append(-1)\n",
        "        generated_images.append(perturbed_point.squeeze())\n",
        "        if len(generated_images) >= 10:\n",
        "            break\n",
        "\n",
        "#generate more points in the selected direction\n",
        "for i in range(len(pts)):\n",
        "    while delta>0:\n",
        "      if dir[i]==1:\n",
        "        pts[i] = perturb_point(pts[i], epsilon)\n",
        "      else:\n",
        "        pts[i] = perturb_point_neg(pts[i],epsilon)\n",
        "      if is_adversarial(model, point, pts[i]):\n",
        "        generated_images.append(pts[i].squeeze())\n",
        "      delta-=1"
      ],
      "metadata": {
        "colab": {
          "base_uri": "https://localhost:8080/"
        },
        "id": "8phbDDvO5I7b",
        "outputId": "17d51f34-a8cb-40c9-9c59-b33ec1d26c2c"
      },
      "execution_count": 15,
      "outputs": [
        {
          "output_type": "stream",
          "name": "stdout",
          "text": [
            "1/1 [==============================] - 1s 609ms/step\n",
            "1/1 [==============================] - 0s 91ms/step\n",
            "1/1 [==============================] - 0s 67ms/step\n",
            "1/1 [==============================] - 0s 85ms/step\n",
            "got_neg\n",
            "1/1 [==============================] - 0s 103ms/step\n",
            "1/1 [==============================] - 0s 131ms/step\n",
            "1/1 [==============================] - 0s 155ms/step\n",
            "1/1 [==============================] - 0s 103ms/step\n",
            "1/1 [==============================] - 0s 104ms/step\n",
            "1/1 [==============================] - 0s 90ms/step\n",
            "got_pos\n",
            "1/1 [==============================] - 0s 52ms/step\n",
            "1/1 [==============================] - 0s 32ms/step\n",
            "got_neg\n",
            "1/1 [==============================] - 0s 37ms/step\n",
            "1/1 [==============================] - 0s 40ms/step\n",
            "1/1 [==============================] - 0s 57ms/step\n",
            "1/1 [==============================] - 0s 34ms/step\n",
            "1/1 [==============================] - 0s 67ms/step\n",
            "1/1 [==============================] - 0s 51ms/step\n",
            "got_pos\n",
            "1/1 [==============================] - 0s 96ms/step\n",
            "1/1 [==============================] - 0s 67ms/step\n",
            "1/1 [==============================] - 0s 44ms/step\n",
            "1/1 [==============================] - 0s 43ms/step\n",
            "got_pos\n",
            "1/1 [==============================] - 0s 44ms/step\n",
            "1/1 [==============================] - 0s 45ms/step\n",
            "1/1 [==============================] - 0s 53ms/step\n",
            "1/1 [==============================] - 0s 41ms/step\n",
            "1/1 [==============================] - 0s 46ms/step\n",
            "1/1 [==============================] - 0s 34ms/step\n",
            "1/1 [==============================] - 0s 26ms/step\n",
            "1/1 [==============================] - 0s 32ms/step\n"
          ]
        }
      ]
    },
    {
      "cell_type": "code",
      "source": [
        "# 5 adversarial examples generated"
      ],
      "metadata": {
        "id": "v1NtWhZZyOWk"
      },
      "execution_count": null,
      "outputs": []
    }
  ]
}